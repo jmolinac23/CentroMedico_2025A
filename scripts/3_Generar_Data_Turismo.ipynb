{
 "cells": [
  {
   "cell_type": "code",
   "execution_count": 2,
   "id": "44269522",
   "metadata": {},
   "outputs": [
    {
     "name": "stdout",
     "output_type": "stream",
     "text": [
      "Archivo generado correctamente: C:\\Users\\steve\\Documents\\CentroMedico_2025A\\data\\pacientes.csv\n",
      "Total de registros: 3002\n"
     ]
    }
   ],
   "source": [
    "import csv\n",
    "import random\n",
    "from datetime import datetime, timedelta\n",
    "from pathlib import Path\n",
    "import os\n",
    "\n",
    "base_dir = Path(\"..\").resolve()  \n",
    "data_dir = base_dir / \"data\"\n",
    "os.makedirs(data_dir, exist_ok=True)\n",
    "archivo_pacientes = data_dir / \"pacientes.csv\"\n",
    "\n",
    "registros_iniciales = [\n",
    "    [\"P001\", \"Ana Torres\", 34, \"F\", \"Miraflores\", \"Odontología\", \"2024-11-15\", 150],\n",
    "    [\"P002\", \"Luis Pérez\", 42, \"M\", \"Surco\", \"Pediatría\", \"2024-10-21\", 250],\n",
    "]\n",
    "\n",
    "nombres = [\"Ana\", \"Luis\", \"María\", \"Carlos\", \"Lucía\", \"Pedro\", \"Sofía\", \"Miguel\", \"Rosa\", \"Jorge\"]\n",
    "apellidos = [\"Torres\", \"Pérez\", \"Gómez\", \"Ramírez\", \"Cruz\", \"Mendoza\", \"Rojas\", \"Salazar\", \"Fernández\", \"Vargas\"]\n",
    "sexos = [\"M\", \"F\"]\n",
    "distritos = [\"Miraflores\", \"Surco\", \"Comas\", \"San Isidro\", \"La Molina\", \"Los Olivos\", \"Callao\", \"Chorrillos\"]\n",
    "servicios = [\"Pediatría\", \"Odontología\", \"Cardiología\", \"Ginecología\", \"Medicina General\", \"Traumatología\"]\n",
    "\n",
    "def generar_fecha_aleatoria():\n",
    "    inicio = datetime(2023, 1, 1)\n",
    "    fin = datetime(2024, 12, 31)\n",
    "    dias_random = random.randint(0, (fin - inicio).days)\n",
    "    return (inicio + timedelta(days=dias_random)).strftime(\"%Y-%m-%d\")\n",
    "\n",
    "def generar_registro(i):\n",
    "    id_paciente = f\"P{str(i+3).zfill(3)}\" \n",
    "    nombre = f\"{random.choice(nombres)} {random.choice(apellidos)}\"\n",
    "    edad = random.choice([random.randint(1, 90), \"NA\", \"\", None])\n",
    "    sexo = random.choice(sexos + [\"NA\", \"\"])\n",
    "    distrito = random.choice(distritos + [\"NA\", \"\"])\n",
    "    servicio = random.choice(servicios + [\"\", \"NA\"])\n",
    "    fecha = generar_fecha_aleatoria()\n",
    "    monto = random.choice([round(random.uniform(50, 500), 2), \"\", \"NA\", None])\n",
    "    \n",
    "    return [id_paciente, nombre, edad, sexo, distrito, servicio, fecha, monto]\n",
    "\n",
    "registros_aleatorios = [generar_registro(i) for i in range(3000)]\n",
    "\n",
    "columnas = [\n",
    "    \"id_paciente\",\n",
    "    \"nombre\",\n",
    "    \"edad\",\n",
    "    \"sexo\",\n",
    "    \"distrito\",\n",
    "    \"servicio\",\n",
    "    \"fecha_atencion\",\n",
    "    \"monto\"\n",
    "]\n",
    "\n",
    "with open(archivo_pacientes, mode=\"w\", newline=\"\", encoding=\"utf-8\") as f:\n",
    "    writer = csv.writer(f, delimiter=\",\")\n",
    "    writer.writerow(columnas)\n",
    "    writer.writerows(registros_iniciales + registros_aleatorios)\n",
    "\n",
    "print(f\"Archivo generado correctamente: {archivo_pacientes}\")\n",
    "print(f\"Total de registros: {len(registros_iniciales) + len(registros_aleatorios)}\")\n"
   ]
  }
 ],
 "metadata": {
  "kernelspec": {
   "display_name": "myenv",
   "language": "python",
   "name": "python3"
  },
  "language_info": {
   "codemirror_mode": {
    "name": "ipython",
    "version": 3
   },
   "file_extension": ".py",
   "mimetype": "text/x-python",
   "name": "python",
   "nbconvert_exporter": "python",
   "pygments_lexer": "ipython3",
   "version": "3.10.0"
  }
 },
 "nbformat": 4,
 "nbformat_minor": 5
}
