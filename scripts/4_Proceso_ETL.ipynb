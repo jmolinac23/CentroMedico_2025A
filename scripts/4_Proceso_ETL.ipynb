{
 "cells": [
  {
   "cell_type": "code",
   "execution_count": null,
   "id": "2fc2a791",
   "metadata": {},
   "outputs": [
    {
     "name": "stdout",
     "output_type": "stream",
     "text": [
      "Registros originales: 3002\n",
      "Registros tras eliminar duplicados: 3002\n",
      "\n",
      "📋 Tipos de datos después de limpieza:\n",
      "id_paciente        object\n",
      "nombre             object\n",
      "edad              float64\n",
      "sexo               object\n",
      "distrito           object\n",
      "servicio           object\n",
      "fecha_atencion     object\n",
      "monto             float64\n",
      "dtype: object\n",
      "\n",
      "✅ Archivo limpio guardado como: C:\\Users\\steve\\Documents\\CentroMedico_2025A\\database\\pacientes_clean.csv\n",
      "Total de registros limpios: 3002\n"
     ]
    }
   ],
   "source": [
    "import pandas as pd\n",
    "from pathlib import Path\n",
    "import os\n",
    "\n",
    "base_dir = Path().resolve().parent  \n",
    "data_dir = base_dir / \"data\"\n",
    "database_dir = base_dir / \"database\"\n",
    "os.makedirs(database_dir, exist_ok=True)\n",
    "\n",
    "archivo_entrada = data_dir / \"pacientes.csv\"\n",
    "archivo_salida = database_dir / \"pacientes_clean.csv\"\n",
    "\n",
    "df = pd.read_csv(archivo_entrada)\n",
    "print(f\"Registros originales: {len(df)}\")\n",
    "\n",
    "df = df.drop_duplicates(subset=[\"id_paciente\"])\n",
    "print(f\"Registros tras eliminar duplicados: {len(df)}\")\n",
    "\n",
    "campos_texto = [\"sexo\", \"distrito\", \"servicio\"]\n",
    "for campo in campos_texto:\n",
    "    df[campo] = df[campo].replace([\"NA\", \" \", \"\", None], pd.NA)\n",
    "    df[campo] = df[campo].fillna(\"Desconocido\")\n",
    "\n",
    "df[\"edad\"] = pd.to_numeric(df[\"edad\"], errors=\"coerce\")\n",
    "df[\"edad\"] = df[\"edad\"].fillna(df[\"edad\"].median())\n",
    "\n",
    "df[\"monto\"] = pd.to_numeric(df[\"monto\"], errors=\"coerce\")\n",
    "df[\"monto\"] = df[\"monto\"].fillna(df[\"monto\"].mean())\n",
    "\n",
    "df[\"fecha_atencion\"] = pd.to_datetime(df[\"fecha_atencion\"], errors=\"coerce\")\n",
    "df[\"fecha_atencion\"] = df[\"fecha_atencion\"].dt.strftime(\"%Y-%m-%d\")\n",
    "\n",
    "print(\"\\nTipos de datos después de limpieza:\")\n",
    "print(df.dtypes)\n",
    "\n",
    "df.to_csv(archivo_salida, index=False, encoding=\"utf-8\")\n",
    "print(f\"\\nArchivo limpio guardado como: {archivo_salida}\")\n",
    "print(f\"Total de registros limpios: {len(df)}\")\n"
   ]
  }
 ],
 "metadata": {
  "kernelspec": {
   "display_name": "myenv",
   "language": "python",
   "name": "python3"
  },
  "language_info": {
   "codemirror_mode": {
    "name": "ipython",
    "version": 3
   },
   "file_extension": ".py",
   "mimetype": "text/x-python",
   "name": "python",
   "nbconvert_exporter": "python",
   "pygments_lexer": "ipython3",
   "version": "3.10.0"
  }
 },
 "nbformat": 4,
 "nbformat_minor": 5
}
