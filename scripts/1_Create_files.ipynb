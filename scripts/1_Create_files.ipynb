{
 "cells": [
  {
   "cell_type": "code",
   "execution_count": null,
   "id": "f6b9e40f",
   "metadata": {},
   "outputs": [
    {
     "name": "stdout",
     "output_type": "stream",
     "text": [
      "📂 Creando carpeta 'data/' (fuera de scripts) con os\n",
      "✅ Carpeta creada o ya existente: c:\\Users\\steve\\Documents\\CentroMedico_2025A\\data\n"
     ]
    }
   ],
   "source": [
    "import os\n",
    "\n",
    "# Subir un nivel desde scripts/\n",
    "base = os.path.abspath(\"..\")\n",
    "print(\"Creando carpeta 'data/' (fuera de scripts) con os\")\n",
    "\n",
    "data_path = os.path.join(base, \"data\")\n",
    "os.makedirs(data_path, exist_ok=True)\n",
    "\n",
    "print(f\"Carpeta creada o ya existente: {data_path}\")"
   ]
  },
  {
   "cell_type": "code",
   "execution_count": null,
   "id": "b07769cb",
   "metadata": {},
   "outputs": [
    {
     "name": "stdout",
     "output_type": "stream",
     "text": [
      "💾 Creando carpeta 'database/' (fuera de scripts) con pathlib\n",
      "✅ Carpeta creada o ya existente: C:\\Users\\steve\\Documents\\CentroMedico_2025A\\database\n"
     ]
    }
   ],
   "source": [
    "from pathlib import Path\n",
    "\n",
    "# Subir un nivel desde scripts/\n",
    "base = Path(\"..\").resolve()\n",
    "print(\"Creando carpeta 'database/' (fuera de scripts) con pathlib\")\n",
    "\n",
    "database_path = base / \"database\"\n",
    "database_path.mkdir(parents=True, exist_ok=True)\n",
    "\n",
    "print(f\"Carpeta creada o ya existente: {database_path}\")"
   ]
  },
  {
   "cell_type": "code",
   "execution_count": null,
   "id": "485e2f2e",
   "metadata": {},
   "outputs": [
    {
     "name": "stdout",
     "output_type": "stream",
     "text": [
      "📊 Creando carpeta 'reports/' (fuera de scripts) con os\n",
      "✅ Carpeta creada o ya existente: c:\\Users\\steve\\Documents\\CentroMedico_2025A\\reports\n"
     ]
    }
   ],
   "source": [
    "import os\n",
    "\n",
    "base = os.path.abspath(\"..\")\n",
    "print(\"Creando carpeta 'reports/' (fuera de scripts) con os\")\n",
    "\n",
    "reports_path = os.path.join(base, \"reports\")\n",
    "os.makedirs(reports_path, exist_ok=True)\n",
    "\n",
    "print(f\"Carpeta creada o ya existente: {reports_path}\")"
   ]
  },
  {
   "cell_type": "code",
   "execution_count": null,
   "id": "f2bb0524",
   "metadata": {},
   "outputs": [
    {
     "name": "stdout",
     "output_type": "stream",
     "text": [
      "⚙️ Creando carpeta 'ci/' (fuera de scripts) con pathlib\n",
      "✅ Carpeta creada o ya existente: C:\\Users\\steve\\Documents\\CentroMedico_2025A\\ci\n"
     ]
    }
   ],
   "source": [
    "from pathlib import Path\n",
    "\n",
    "base = Path(\"..\").resolve()\n",
    "print(\"Creando carpeta 'ci/' (fuera de scripts) con pathlib\")\n",
    "\n",
    "ci_path = base / \"ci\"\n",
    "ci_path.mkdir(parents=True, exist_ok=True)\n",
    "\n",
    "print(f\"Carpeta creada o ya existente: {ci_path}\")"
   ]
  },
  {
   "cell_type": "code",
   "execution_count": null,
   "id": "45ff08de",
   "metadata": {},
   "outputs": [
    {
     "name": "stdout",
     "output_type": "stream",
     "text": [
      "🔧 Creando carpeta 'git/' (fuera de scripts) con os\n",
      "✅ Carpeta creada o ya existente: c:\\Users\\steve\\Documents\\CentroMedico_2025A\\git\n"
     ]
    }
   ],
   "source": [
    "import os\n",
    "\n",
    "base = os.path.abspath(\"..\")\n",
    "print(\"Creando carpeta 'git/' (fuera de scripts) con os\")\n",
    "\n",
    "git_path = os.path.join(base, \"git\")\n",
    "os.makedirs(git_path, exist_ok=True)\n",
    "\n",
    "print(f\"Carpeta creada o ya existente: {git_path}\")"
   ]
  },
  {
   "cell_type": "code",
   "execution_count": null,
   "id": "e2e764a9",
   "metadata": {},
   "outputs": [],
   "source": [
    "\n",
    "# Crear scripts/ (usando pathlib)\n",
    "from pathlib import Path\n",
    "\n",
    "base = Path(\".\").resolve()\n",
    "print(\"Creando carpeta 'scripts/' con pathlib\")\n",
    "scripts_path = base / \"scripts\"\n",
    "scripts_path.mkdir(parents=True, exist_ok=True)\n",
    "print(f\"Carpeta creada o ya existente: {scripts_path}\")"
   ]
  }
 ],
 "metadata": {
  "kernelspec": {
   "display_name": "myenv",
   "language": "python",
   "name": "python3"
  },
  "language_info": {
   "codemirror_mode": {
    "name": "ipython",
    "version": 3
   },
   "file_extension": ".py",
   "mimetype": "text/x-python",
   "name": "python",
   "nbconvert_exporter": "python",
   "pygments_lexer": "ipython3",
   "version": "3.10.0"
  }
 },
 "nbformat": 4,
 "nbformat_minor": 5
}
