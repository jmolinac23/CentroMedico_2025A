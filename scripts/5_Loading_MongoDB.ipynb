{
 "cells": [
  {
   "cell_type": "code",
   "execution_count": 1,
   "id": "9fbc284f",
   "metadata": {},
   "outputs": [
    {
     "name": "stdout",
     "output_type": "stream",
     "text": [
      "Registros a insertar: 3002\n",
      "Inserción completada correctamente en MongoDB.\n",
      "Total de documentos en la colección: 3002\n"
     ]
    }
   ],
   "source": [
    "import pandas as pd\n",
    "from pymongo import MongoClient\n",
    "from pathlib import Path\n",
    "\n",
    "base_dir = Path().resolve().parent\n",
    "archivo_csv = base_dir / \"database\" / \"pacientes_clean.csv\"\n",
    "\n",
    "df = pd.read_csv(archivo_csv)\n",
    "print(f\"Registros a insertar: {len(df)}\")\n",
    "\n",
    "cliente = MongoClient(\"mongodb://localhost:27017/\")\n",
    "\n",
    "db = cliente[\"SaludDigital_2025\"]\n",
    "coleccion = db[\"pacientes\"]\n",
    "\n",
    "coleccion.delete_many({})\n",
    "\n",
    "registros = df.to_dict(orient=\"records\")\n",
    "\n",
    "coleccion.insert_many(registros)\n",
    "\n",
    "print(\"Inserción completada correctamente en MongoDB.\")\n",
    "print(f\"Total de documentos en la colección: {coleccion.count_documents({})}\")\n"
   ]
  }
 ],
 "metadata": {
  "kernelspec": {
   "display_name": "myenv",
   "language": "python",
   "name": "python3"
  },
  "language_info": {
   "codemirror_mode": {
    "name": "ipython",
    "version": 3
   },
   "file_extension": ".py",
   "mimetype": "text/x-python",
   "name": "python",
   "nbconvert_exporter": "python",
   "pygments_lexer": "ipython3",
   "version": "3.10.0"
  }
 },
 "nbformat": 4,
 "nbformat_minor": 5
}
