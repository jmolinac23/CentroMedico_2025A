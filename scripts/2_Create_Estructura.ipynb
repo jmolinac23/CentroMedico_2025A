{
 "cells": [
  {
   "cell_type": "code",
   "execution_count": 1,
   "id": "72f78a41",
   "metadata": {},
   "outputs": [
    {
     "name": "stdout",
     "output_type": "stream",
     "text": [
      "Archivo creado correctamente: C:\\Users\\steve\\Documents\\CentroMedico_2025A\\data\\base.csv\n",
      "Columnas: id_paciente, nombre, edad, sexo, distrito, servicio, fecha_atencion, monto\n"
     ]
    }
   ],
   "source": [
    "import os\n",
    "import csv\n",
    "from pathlib import Path\n",
    "\n",
    "# Subir un nivel desde 'scripts'\n",
    "base_dir = Path(\"..\").resolve()\n",
    "data_dir = base_dir / \"data\"\n",
    "\n",
    "# Asegurar que exista la carpeta 'data'\n",
    "os.makedirs(data_dir, exist_ok=True)\n",
    "\n",
    "# Ruta del archivo base.csv\n",
    "base_csv = data_dir / \"base.csv\"\n",
    "\n",
    "# Definir las columnas del esquema\n",
    "columnas = [\n",
    "    \"id_paciente\",\n",
    "    \"nombre\",\n",
    "    \"edad\",\n",
    "    \"sexo\",\n",
    "    \"distrito\",\n",
    "    \"servicio\",\n",
    "    \"fecha_atencion\",\n",
    "    \"monto\"\n",
    "]\n",
    "\n",
    "# Crear archivo base CSV con solo encabezados\n",
    "with open(base_csv, mode=\"w\", newline=\"\", encoding=\"utf-8\") as file:\n",
    "    writer = csv.writer(file)\n",
    "    writer.writerow(columnas)\n",
    "\n",
    "print(f\"Archivo creado correctamente: {base_csv}\")\n",
    "print(f\"Columnas: {', '.join(columnas)}\")\n"
   ]
  }
 ],
 "metadata": {
  "kernelspec": {
   "display_name": "myenv",
   "language": "python",
   "name": "python3"
  },
  "language_info": {
   "codemirror_mode": {
    "name": "ipython",
    "version": 3
   },
   "file_extension": ".py",
   "mimetype": "text/x-python",
   "name": "python",
   "nbconvert_exporter": "python",
   "pygments_lexer": "ipython3",
   "version": "3.10.0"
  }
 },
 "nbformat": 4,
 "nbformat_minor": 5
}
